{
  "nbformat": 4,
  "nbformat_minor": 0,
  "metadata": {
    "colab": {
      "provenance": [],
      "authorship_tag": "ABX9TyPfzehbLwrSQwEIjZl1sjIq",
      "include_colab_link": true
    },
    "kernelspec": {
      "name": "python3",
      "display_name": "Python 3"
    },
    "language_info": {
      "name": "python"
    }
  },
  "cells": [
    {
      "cell_type": "markdown",
      "metadata": {
        "id": "view-in-github",
        "colab_type": "text"
      },
      "source": [
        "<a href=\"https://colab.research.google.com/github/NikolayWTF/Hacato-SPB-Top-Blog/blob/main/%D0%A5%D0%B0%D0%BA%D0%B0%D1%82%D0%BE%D0%BD_%D1%81%D0%BF%D0%B1_%D0%B8%D1%82%D0%BE%D0%B3.ipynb\" target=\"_parent\"><img src=\"https://colab.research.google.com/assets/colab-badge.svg\" alt=\"Open In Colab\"/></a>"
      ]
    },
    {
      "cell_type": "code",
      "source": [
        "#Загружаю данные для теста программы\n",
        "!gdown 1R_tRU1JdZVyubJeiCaBRXce7_CPuHA33\n",
        "!unrar x -Y \"images_zn.rar\" \"images\""
      ],
      "metadata": {
        "id": "Sihz8isLVnhm"
      },
      "execution_count": null,
      "outputs": []
    },
    {
      "cell_type": "code",
      "execution_count": 32,
      "metadata": {
        "colab": {
          "base_uri": "https://localhost:8080/"
        },
        "id": "AOtPkQAq-h4k",
        "outputId": "6bd64fc6-8ad3-4805-d5f0-c08ecd58591e"
      },
      "outputs": [
        {
          "output_type": "stream",
          "name": "stdout",
          "text": [
            "Downloading...\n",
            "From: https://drive.google.com/uc?id=1RVWFEC2UoPSt7O5EwiKK_Wb527CWxCVn\n",
            "To: /content/networks.rar\n",
            "100% 213M/213M [00:07<00:00, 27.3MB/s]\n"
          ]
        }
      ],
      "source": [
        "#Загружаю архив с весами всех моделей\n",
        "!gdown 1RVWFEC2UoPSt7O5EwiKK_Wb527CWxCVn"
      ]
    },
    {
      "cell_type": "code",
      "source": [
        "#Устанавливаю все необходимые библиотеки\n",
        "!pip install unrar\n",
        "!pip install ultralytics\n",
        "!pip install easyocr\n",
        "!pip install pandas"
      ],
      "metadata": {
        "id": "iQ7CmY6u_yDB"
      },
      "execution_count": null,
      "outputs": []
    },
    {
      "cell_type": "code",
      "source": [
        "#Распаковываю архив с моделями и добавляю в папку networks\n",
        "!unrar x -Y \"networks.rar\" \"networks\""
      ],
      "metadata": {
        "colab": {
          "base_uri": "https://localhost:8080/"
        },
        "id": "auSFAjAsAB4X",
        "outputId": "eadc51c9-2729-4d49-a8a3-1505ffa3d20f"
      },
      "execution_count": 33,
      "outputs": [
        {
          "output_type": "stream",
          "name": "stdout",
          "text": [
            "\n",
            "UNRAR 6.11 beta 1 freeware      Copyright (c) 1993-2022 Alexander Roshal\n",
            "\n",
            "\n",
            "Extracting from networks.rar\n",
            "\n",
            "Creating    networks                                                  OK\n",
            "Extracting  networks/yolov8m-tg_v2-30e.pt                                \b\b\b\b  1%\b\b\b\b  3%\b\b\b\b  5%\b\b\b\b  7%\b\b\b\b  9%\b\b\b\b 11%\b\b\b\b 13%\b\b\b\b 15%\b\b\b\b 17%\b\b\b\b 19%\b\b\b\b 21%\b\b\b\b 22%\b\b\b\b\b  OK \n",
            "Extracting  networks/yolov8m-vk-30e.pt                                   \b\b\b\b 24%\b\b\b\b 26%\b\b\b\b 28%\b\b\b\b 30%\b\b\b\b 32%\b\b\b\b 34%\b\b\b\b 36%\b\b\b\b 38%\b\b\b\b 40%\b\b\b\b 42%\b\b\b\b 44%\b\b\b\b 45%\b\b\b\b\b  OK \n",
            "Extracting  networks/yolov8m-yt1_v5-30e.pt                               \b\b\b\b 47%\b\b\b\b 49%\b\b\b\b 51%\b\b\b\b 53%\b\b\b\b 55%\b\b\b\b 57%\b\b\b\b 58%\b\b\b\b 60%\b\b\b\b 62%\b\b\b\b 64%\b\b\b\b 66%\b\b\b\b 67%\b\b\b\b\b  OK \n",
            "Extracting  networks/yolov8m-yt2_v3-30e.pt                               \b\b\b\b 69%\b\b\b\b 71%\b\b\b\b 73%\b\b\b\b 75%\b\b\b\b 77%\b\b\b\b 79%\b\b\b\b 81%\b\b\b\b 83%\b\b\b\b 85%\b\b\b\b 87%\b\b\b\b 89%\b\b\b\b 90%\b\b\b\b\b  OK \n",
            "Extracting  networks/yolov8s-zn-gpu-15e.pt                               \b\b\b\b 92%\b\b\b\b 94%\b\b\b\b 96%\b\b\b\b 98%\b\b\b\b 99%\b\b\b\b\b  OK \n",
            "All OK\n"
          ]
        }
      ]
    },
    {
      "cell_type": "code",
      "source": [
        "# Импортирую необходимые библиотеки\n",
        "import ultralytics\n",
        "from ultralytics import YOLO\n",
        "import numpy as np\n",
        "import cv2\n",
        "import os\n",
        "import easyocr\n",
        "import pandas as pd"
      ],
      "metadata": {
        "id": "hhxPC16dATyb"
      },
      "execution_count": 27,
      "outputs": []
    },
    {
      "cell_type": "code",
      "source": [
        "def folder_handling(mode):\n",
        "  #Работа с папкой\n",
        "  column_folder = []\n",
        "  column_folder_zn = []\n",
        "  for filename in photos:\n",
        "    file_extension = filename.split(\".\")[1].lower()\n",
        "\n",
        "    if file_extension not in ban_extension:\n",
        "      path_to_img = directory_name + filename\n",
        "\n",
        "      results = model(path_to_img)\n",
        "\n",
        "      for r in results:\n",
        "        boxes = r.boxes\n",
        "        if len(boxes) == 0:\n",
        "          column_folder.append(filename)\n",
        "          column_folder_zn.append(\"Данные для аналитики не найдены\")\n",
        "          # print(filename, \"Данные для аналитики не найдены\")\n",
        "        else:\n",
        "          for box in boxes:\n",
        "            x_0 = int(box.xyxy[0][0])\n",
        "            y_0 = int(box.xyxy[0][1])\n",
        "            x_1 = int(box.xyxy[0][2])\n",
        "            y_1 = int(box.xyxy[0][3])\n",
        "            img = r.orig_img[y_0:y_1, x_0:x_1]\n",
        "\n",
        "            #Возможно сюда надо не изображение, а имя файла с изображением\n",
        "            cv2.imwrite(\"tmp.jpg\", img)\n",
        "            ans = reader.readtext(\"tmp.jpg\")\n",
        "\n",
        "            if len(ans) == 0:\n",
        "              filename_def, zn_def = contrast(filename)\n",
        "              column_folder.append(filename_def)\n",
        "              column_folder_zn.append(zn_def)\n",
        "            else:\n",
        "              for a in ans:\n",
        "                # print(filename, a[1])\n",
        "                column_folder.append(filename)\n",
        "                column_folder_zn.append(a[1])\n",
        "  find_parametr = \"\"\n",
        "  final_filename = \"\"\n",
        "  if mode == \"zn\":\n",
        "    find_parametr = \"Дочитывания\"\n",
        "    final_filename = \"./zn.xlsx\"\n",
        "  elif mode == \"vk\":\n",
        "    find_parametr = \"Подписчики\"\n",
        "    final_filename = \"./vk.xlsx\"\n",
        "  elif mode == \"tg\":\n",
        "    find_parametr = \"ERR/VR\"\n",
        "    final_filename = \"./tg.xlsx\"\n",
        "  elif mode == \"yt1\":\n",
        "    find_parametr = \"Подписчики\"\n",
        "    find_parametr = \"Просмотры\"\n",
        "    final_filename = \"./yt1.xlsx\"\n",
        "  elif mode == \"yt2\":\n",
        "    find_parametr = \"Просмотры\"\n",
        "    final_filename = \"./yt2.xlsx\"\n",
        "\n",
        "  df = pd.DataFrame({\"Имя файла\" : column_folder,\n",
        "                    find_parametr : column_folder_zn})\n",
        "  df.to_excel(final_filename, index=False)\n",
        "\n",
        "\n",
        "def contrast(filename):\n",
        "  # Это контрастность и яркость, применяется, если ocr ничего не распознал\n",
        "  image_bgr = cv2.imread(\"tmp.jpg\", cv2.IMREAD_COLOR)\n",
        "  image_rgb = cv2.cvtColor(image_bgr, cv2.COLOR_BGR2RGB)\n",
        "  contrast_matrix = np.ones(image_rgb.shape) * 1.9\n",
        "  brightness_matrix = np.ones(image_rgb.shape, dtype=\"uint8\") * 140\n",
        "  image_rgb_br = cv2.subtract(image_rgb, brightness_matrix)\n",
        "  image_rgb_con = np.uint8(np.clip(cv2.multiply(np.float64(image_rgb_br), contrast_matrix), 0, 255))\n",
        "  ans = reader.readtext(image_rgb_con)\n",
        "\n",
        "  if len(ans) == 0:\n",
        "    ans = reader.readtext(image_rgb_br)\n",
        "    if len(ans) == 0:\n",
        "      return (filename, \"Данные не распознаны\")\n",
        "    else:\n",
        "      for a in ans:\n",
        "        return (filename, a[1])\n",
        "  else:\n",
        "    for a in ans:\n",
        "      return (filename, a[1])\n",
        "\n",
        "mode = \"yt\" # Тут выбираем с какой соц сетью работаем. Режимы: zn, vk, tg, yt\n",
        "content = \"folder\" # С чем работаем с 1 фото или с папкой. Режимы: photo, folder\n",
        "\n",
        "reader = easyocr.Reader(['ru', 'en'], gpu = True) #Подключаю EasyOCR\n",
        "directory_name = 'images/' # Имя папки с файлами\n",
        "photos = os.listdir(directory_name)\n",
        "ban_extension = [\"doc\", \"docx\", \"pdf\", \"pptx\", \"heic\", \"zip\", \"jfif\"]\n",
        "if mode == \"zn\":\n",
        "\n",
        "  model_name = 'networks/yolov8s-zn-gpu-15e.pt' # Выбрал модель для Дзена\n",
        "  model = YOLO(model_name)\n",
        "\n",
        "  if content == \"folder\":\n",
        "\n",
        "    folder_handling(mode)\n",
        "\n",
        "elif mode == \"vk\":\n",
        "\n",
        "  model_name = 'networks/yolov8m-vk-30e.pt' # Выбрал модель для ВК\n",
        "  model = YOLO(model_name)\n",
        "\n",
        "  if content == \"folder\":\n",
        "\n",
        "    folder_handling(mode)\n",
        "\n",
        "elif mode == \"tg\":\n",
        "\n",
        "  model_name = 'networks/yolov8m-tg_v2-30e.pt' # Выбрал модель для Телеграма\n",
        "  model = YOLO(model_name)\n",
        "\n",
        "  if content == \"folder\":\n",
        "\n",
        "    folder_handling(mode)\n",
        "\n",
        "elif mode == \"yt\":\n",
        "\n",
        "  model_name = 'networks/yolov8m-yt1_v5-30e.pt' # Выбрал модель для Ютуба\n",
        "  model = YOLO(model_name)\n",
        "\n",
        "  if content == \"folder\":\n",
        "\n",
        "    folder_handling(\"yt1\")\n",
        "\n",
        "    model_name = 'networks/yolov8m-yt2_v3-30e.pt' # Выбрал модель для Ютуба\n",
        "    model = YOLO(model_name)\n",
        "\n",
        "    folder_handling(\"yt2\")\n",
        "\n",
        "  # ВАЖНО. ПОСЛЕ ПРОГОНА 1й МОДЕЛИ, СЮДА НУЖНО ВСТАВИТЬ yt2, но пока нет весов\n",
        "\n",
        "else:\n",
        "  print(\"ОШИБКА выбрана не существующая сеть\")"
      ],
      "metadata": {
        "id": "2itQQ9FSAajT"
      },
      "execution_count": null,
      "outputs": []
    }
  ]
}